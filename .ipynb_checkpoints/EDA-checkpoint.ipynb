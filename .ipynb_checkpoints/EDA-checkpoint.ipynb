{
 "cells": [
  {
   "cell_type": "code",
   "execution_count": 1,
   "id": "d61189f4",
   "metadata": {},
   "outputs": [],
   "source": [
    "import numpy as np\n",
    "import matplotlib.pyplot as plt\n",
    "import pandas as pd\n",
    "import seaborn as sns\n",
    "%matplotlib inline"
   ]
  },
  {
   "cell_type": "code",
   "execution_count": 3,
   "id": "f387b617",
   "metadata": {},
   "outputs": [],
   "source": [
    "df = pd.read_csv('rezultatai-or-a-lyga-or-2022_a-lyga-2022_captured-list_2023-03-23_66285056-2d13-4f5f-bdc1-46b9c246e61f.csv')"
   ]
  },
  {
   "cell_type": "code",
   "execution_count": 136,
   "id": "ee77647e",
   "metadata": {},
   "outputs": [
    {
     "data": {
      "text/html": [
       "<div>\n",
       "<style scoped>\n",
       "    .dataframe tbody tr th:only-of-type {\n",
       "        vertical-align: middle;\n",
       "    }\n",
       "\n",
       "    .dataframe tbody tr th {\n",
       "        vertical-align: top;\n",
       "    }\n",
       "\n",
       "    .dataframe thead th {\n",
       "        text-align: right;\n",
       "    }\n",
       "</style>\n",
       "<table border=\"1\" class=\"dataframe\">\n",
       "  <thead>\n",
       "    <tr style=\"text-align: right;\">\n",
       "      <th></th>\n",
       "      <th>Home</th>\n",
       "      <th>Away</th>\n",
       "      <th>homeResult</th>\n",
       "      <th>awayResult</th>\n",
       "      <th>Winner</th>\n",
       "    </tr>\n",
       "    <tr>\n",
       "      <th>Date</th>\n",
       "      <th></th>\n",
       "      <th></th>\n",
       "      <th></th>\n",
       "      <th></th>\n",
       "      <th></th>\n",
       "    </tr>\n",
       "  </thead>\n",
       "  <tbody>\n",
       "    <tr>\n",
       "      <th>2022-11-23 19:00:00</th>\n",
       "      <td>4</td>\n",
       "      <td>0</td>\n",
       "      <td>2</td>\n",
       "      <td>3</td>\n",
       "      <td>Away</td>\n",
       "    </tr>\n",
       "    <tr>\n",
       "      <th>2022-11-23 19:00:00</th>\n",
       "      <td>7</td>\n",
       "      <td>1</td>\n",
       "      <td>2</td>\n",
       "      <td>3</td>\n",
       "      <td>Away</td>\n",
       "    </tr>\n",
       "    <tr>\n",
       "      <th>2022-11-23 19:00:00</th>\n",
       "      <td>6</td>\n",
       "      <td>5</td>\n",
       "      <td>2</td>\n",
       "      <td>2</td>\n",
       "      <td>Draw</td>\n",
       "    </tr>\n",
       "    <tr>\n",
       "      <th>2022-11-23 19:00:00</th>\n",
       "      <td>3</td>\n",
       "      <td>10</td>\n",
       "      <td>2</td>\n",
       "      <td>1</td>\n",
       "      <td>Home</td>\n",
       "    </tr>\n",
       "    <tr>\n",
       "      <th>2022-11-23 19:00:00</th>\n",
       "      <td>8</td>\n",
       "      <td>9</td>\n",
       "      <td>1</td>\n",
       "      <td>1</td>\n",
       "      <td>Draw</td>\n",
       "    </tr>\n",
       "  </tbody>\n",
       "</table>\n",
       "</div>"
      ],
      "text/plain": [
       "                     Home  Away  homeResult  awayResult Winner\n",
       "Date                                                          \n",
       "2022-11-23 19:00:00     4     0           2           3   Away\n",
       "2022-11-23 19:00:00     7     1           2           3   Away\n",
       "2022-11-23 19:00:00     6     5           2           2   Draw\n",
       "2022-11-23 19:00:00     3    10           2           1   Home\n",
       "2022-11-23 19:00:00     8     9           1           1   Draw"
      ]
     },
     "execution_count": 136,
     "metadata": {},
     "output_type": "execute_result"
    }
   ],
   "source": [
    "df.head()"
   ]
  },
  {
   "cell_type": "code",
   "execution_count": 6,
   "id": "cac18db0",
   "metadata": {},
   "outputs": [
    {
     "name": "stdout",
     "output_type": "stream",
     "text": [
      "<class 'pandas.core.frame.DataFrame'>\n",
      "RangeIndex: 228 entries, 0 to 227\n",
      "Data columns (total 7 columns):\n",
      " #   Column    Non-Null Count  Dtype \n",
      "---  ------    --------------  ----- \n",
      " 0   Position  228 non-null    int64 \n",
      " 1   Date      180 non-null    object\n",
      " 2   Home      180 non-null    object\n",
      " 3   Result    180 non-null    object\n",
      " 4   Away      180 non-null    object\n",
      " 5   Home1     180 non-null    object\n",
      " 6   Away1     180 non-null    object\n",
      "dtypes: int64(1), object(6)\n",
      "memory usage: 12.6+ KB\n"
     ]
    }
   ],
   "source": [
    "df.info()"
   ]
  },
  {
   "cell_type": "code",
   "execution_count": 7,
   "id": "d82a17c0",
   "metadata": {},
   "outputs": [
    {
     "data": {
      "text/plain": [
       "Position     0\n",
       "Date        48\n",
       "Home        48\n",
       "Result      48\n",
       "Away        48\n",
       "Home1       48\n",
       "Away1       48\n",
       "dtype: int64"
      ]
     },
     "execution_count": 7,
     "metadata": {},
     "output_type": "execute_result"
    },
    {
     "data": {
      "image/png": "[encoded data removed]",
      "text/plain": [
       "<Figure size 432x288 with 2 Axes>"
      ]
     },
     "metadata": {
      "needs_background": "light"
     },
     "output_type": "display_data"
    }
   ],
   "source": [
    "sns.heatmap(df.isnull())\n",
    "df.isnull().sum()"
   ]
  },
  {
   "cell_type": "code",
   "execution_count": 44,
   "id": "ed54f3ae",
   "metadata": {},
   "outputs": [],
   "source": [
    "df = df.drop(['Result'], axis=1)"
   ]
  },
  {
   "cell_type": "code",
   "execution_count": 12,
   "id": "240beaec",
   "metadata": {},
   "outputs": [],
   "source": [
    "df = df.dropna()"
   ]
  },
  {
   "cell_type": "code",
   "execution_count": 18,
   "id": "d33aec91",
   "metadata": {},
   "outputs": [],
   "source": [
    "import pandas as pd\n",
    "\n",
    "df['Date'] = pd.to_datetime(df['Date'], format=\"%Y-%m-%d, %H:%M\")"
   ]
  },
  {
   "cell_type": "code",
   "execution_count": 21,
   "id": "0642afd3",
   "metadata": {},
   "outputs": [],
   "source": [
    "df = df.set_index('Date')"
   ]
  },
  {
   "cell_type": "code",
   "execution_count": 42,
   "id": "662d969f",
   "metadata": {},
   "outputs": [],
   "source": [
    "score_strings = df['Result']\n",
    "results = []\n",
    "homeResult = []\n",
    "awayResult = []\n",
    "\n",
    "for score_string in score_strings:\n",
    "    scores = score_string.split(' : ')\n",
    "    home = int(scores[0])\n",
    "    away = int(scores[1])\n",
    "    homeResult.append(home)\n",
    "    awayResult.append(away)\n",
    "\n",
    "df['homeResult'] = homeResult\n",
    "df['awayResult'] = awayResult"
   ]
  },
  {
   "cell_type": "code",
   "execution_count": 50,
   "id": "331efa71",
   "metadata": {},
   "outputs": [
    {
     "data": {
      "text/plain": [
       "2"
      ]
     },
     "execution_count": 50,
     "metadata": {},
     "output_type": "execute_result"
    }
   ],
   "source": [
    "df['homeResult'][0]"
   ]
  },
  {
   "cell_type": "code",
   "execution_count": 107,
   "id": "662d0db6",
   "metadata": {},
   "outputs": [
    {
     "data": {
      "text/plain": [
       "{'K. Žalgiris': 0,\n",
       " 'Šiauliai': 1,\n",
       " 'Draw': 2,\n",
       " 'Panevėžys': 3,\n",
       " 'Žalgiris': 4,\n",
       " 'Riteriai': 5,\n",
       " 'Hegelmann': 6,\n",
       " 'Banga': 7,\n",
       " 'Sūduva': 8,\n",
       " 'Džiugas': 9,\n",
       " 'Jonava': 10}"
      ]
     },
     "execution_count": 107,
     "metadata": {},
     "output_type": "execute_result"
    }
   ],
   "source": [
    "encoder = {}\n",
    "        \n",
    "for i in range(0, df['Winner'].nunique()):\n",
    "    encoder[df['Winner'].unique()[i]] = i\n",
    "    \n",
    "encoder['Jonava'] = 10\n",
    "\n",
    "encoder"
   ]
  },
  {
   "cell_type": "code",
   "execution_count": 110,
   "id": "99f30d41",
   "metadata": {},
   "outputs": [],
   "source": [
    "for i in range(0, df['Winner'].nunique()):\n",
    "    df = df.replace(encoder)\n"
   ]
  },
  {
   "cell_type": "code",
   "execution_count": 120,
   "id": "957bf16a",
   "metadata": {},
   "outputs": [],
   "source": [
    "df1 = df.drop(['Winner'], axis=1)"
   ]
  },
  {
   "cell_type": "code",
   "execution_count": 135,
   "id": "e6f68250",
   "metadata": {},
   "outputs": [
    {
     "data": {
      "text/html": [
       "<div>\n",
       "<style scoped>\n",
       "    .dataframe tbody tr th:only-of-type {\n",
       "        vertical-align: middle;\n",
       "    }\n",
       "\n",
       "    .dataframe tbody tr th {\n",
       "        vertical-align: top;\n",
       "    }\n",
       "\n",
       "    .dataframe thead th {\n",
       "        text-align: right;\n",
       "    }\n",
       "</style>\n",
       "<table border=\"1\" class=\"dataframe\">\n",
       "  <thead>\n",
       "    <tr style=\"text-align: right;\">\n",
       "      <th></th>\n",
       "      <th>Home</th>\n",
       "      <th>Away</th>\n",
       "      <th>homeResult</th>\n",
       "      <th>awayResult</th>\n",
       "    </tr>\n",
       "    <tr>\n",
       "      <th>Date</th>\n",
       "      <th></th>\n",
       "      <th></th>\n",
       "      <th></th>\n",
       "      <th></th>\n",
       "    </tr>\n",
       "  </thead>\n",
       "  <tbody>\n",
       "    <tr>\n",
       "      <th>2022-11-23 19:00:00</th>\n",
       "      <td>4</td>\n",
       "      <td>0</td>\n",
       "      <td>2</td>\n",
       "      <td>3</td>\n",
       "    </tr>\n",
       "    <tr>\n",
       "      <th>2022-11-23 19:00:00</th>\n",
       "      <td>7</td>\n",
       "      <td>1</td>\n",
       "      <td>2</td>\n",
       "      <td>3</td>\n",
       "    </tr>\n",
       "    <tr>\n",
       "      <th>2022-11-23 19:00:00</th>\n",
       "      <td>6</td>\n",
       "      <td>5</td>\n",
       "      <td>2</td>\n",
       "      <td>2</td>\n",
       "    </tr>\n",
       "    <tr>\n",
       "      <th>2022-11-23 19:00:00</th>\n",
       "      <td>3</td>\n",
       "      <td>10</td>\n",
       "      <td>2</td>\n",
       "      <td>1</td>\n",
       "    </tr>\n",
       "    <tr>\n",
       "      <th>2022-11-23 19:00:00</th>\n",
       "      <td>8</td>\n",
       "      <td>9</td>\n",
       "      <td>1</td>\n",
       "      <td>1</td>\n",
       "    </tr>\n",
       "  </tbody>\n",
       "</table>\n",
       "</div>"
      ],
      "text/plain": [
       "                     Home  Away  homeResult  awayResult\n",
       "Date                                                   \n",
       "2022-11-23 19:00:00     4     0           2           3\n",
       "2022-11-23 19:00:00     7     1           2           3\n",
       "2022-11-23 19:00:00     6     5           2           2\n",
       "2022-11-23 19:00:00     3    10           2           1\n",
       "2022-11-23 19:00:00     8     9           1           1"
      ]
     },
     "execution_count": 135,
     "metadata": {},
     "output_type": "execute_result"
    }
   ],
   "source": [
    "df1.head()"
   ]
  },
  {
   "cell_type": "code",
   "execution_count": 125,
   "id": "22a46078",
   "metadata": {},
   "outputs": [],
   "source": [
    "X = df1.drop(['homeResult', 'awayResult'], axis=1)\n",
    "y = df1[['homeResult', 'awayResult']]\n",
    "\n",
    "from sklearn.model_selection import train_test_split\n",
    "\n",
    "X_train, X_test, y_train, y_test = train_test_split(X, y, test_size=0.3, random_state=101)"
   ]
  },
  {
   "cell_type": "code",
   "execution_count": 130,
   "id": "a78036ac",
   "metadata": {},
   "outputs": [
    {
     "name": "stdout",
     "output_type": "stream",
     "text": [
      "1.0555555555555556\n",
      "\n",
      "\n",
      "0.8981481481481481\n",
      "\n",
      "\n",
      "0.962962962962963\n",
      "\n",
      "\n",
      "0.9537037037037037\n",
      "\n",
      "\n",
      "1.0185185185185186\n",
      "\n",
      " {'Random Forest': 0.8981481481481481, 'K-NNs': 0.9537037037037037, 'Log.Regression': 0.962962962962963, 'XGBoost': 1.0185185185185186, 'Decision Tree': 1.0555555555555556}\n"
     ]
    },
    {
     "data": {
      "image/png": "[encoded data removed]",
      "text/plain": [
       "<Figure size 432x288 with 1 Axes>"
      ]
     },
     "metadata": {
      "needs_background": "light"
     },
     "output_type": "display_data"
    }
   ],
   "source": [
    "from sklearn.tree import DecisionTreeRegressor\n",
    "from sklearn.ensemble import RandomForestRegressor\n",
    "from sklearn import svm\n",
    "from sklearn.linear_model import LinearRegression\n",
    "from sklearn.neighbors import KNeighborsRegressor\n",
    "from xgboost import XGBRegressor\n",
    "from sklearn.metrics import mean_absolute_error\n",
    "from sklearn.metrics import classification_report\n",
    "from sklearn.metrics import accuracy_score\n",
    "    \n",
    "dtree = DecisionTreeRegressor()\n",
    "rand = RandomForestRegressor()\n",
    "svm_train = svm.LinearSVC()\n",
    "lin = LinearRegression()\n",
    "neig = KNeighborsRegressor()\n",
    "xgb = XGBRegressor()\n",
    "    \n",
    "dtree.fit(X_train, y_train)\n",
    "dtree_results = np.around(dtree.predict(X_test))\n",
    "dtree_mae = mean_absolute_error(y_test, dtree_results)\n",
    "#print('Decision Tree:\\n' + classification_report(y_test, dtree_results))\n",
    "print(dtree_mae)\n",
    "print('\\n')\n",
    "    \n",
    "rand.fit(X_train, y_train)\n",
    "rand_results = np.around(rand.predict(X_test))\n",
    "rand_mae = mean_absolute_error(y_test, rand_results)\n",
    "#print('Random Forest:\\n' + classification_report(y_test, rand_results))\n",
    "print(rand_mae)\n",
    "print('\\n')\n",
    "    \n",
    "#svm_train.fit(X_train, y_train)\n",
    "#svm_train_results = svm_train.predict(X_test)\n",
    "#svm_mae = mean_absolute_error(y_test, svm_train_results)\n",
    "#print('SVM:\\n' + classification_report(y_test, svm_train_results))\n",
    "#print(svm_mae)\n",
    "#print('\\n')\n",
    "    \n",
    "lin.fit(X_train, y_train)\n",
    "lin_results = np.around(lin.predict(X_test))\n",
    "lin_mae = mean_absolute_error(y_test, lin_results)\n",
    "#print('Lin.Regression:\\n' + classification_report(y_test, lin_results))\n",
    "print(lin_mae)\n",
    "print('\\n')\n",
    "    \n",
    "neig.fit(X_train, y_train)\n",
    "neig_results = np.around(neig.predict(X_test))\n",
    "neig_mae = mean_absolute_error(y_test, neig_results)\n",
    "#print('K-NNs:\\n' + classification_report(y_test, neig_results))\n",
    "print(neig_mae)\n",
    "print('\\n')\n",
    "    \n",
    "xgb.fit(X_train, y_train)\n",
    "xgb_results = np.around(xgb.predict(X_test))\n",
    "xgb_mae = mean_absolute_error(y_test, xgb_results)\n",
    "#print('XGBoost:\\n'+ classification_report(y_test, xgb_results))\n",
    "print(xgb_mae)\n",
    "    \n",
    "    \n",
    "models={'Decision Tree': dtree_mae,\n",
    "           'Random Forest': rand_mae,\n",
    "            #'SVM': svm_mae,\n",
    "            'Log.Regression': lin_mae,\n",
    "            'K-NNs': neig_mae,\n",
    "            'XGBoost': xgb_mae\n",
    "           }\n",
    "    \n",
    "sns.lineplot(data=models)\n",
    "\n",
    "keys = sorted(models, key=models.get)\n",
    "values = sorted(models.values())\n",
    "best = dict(zip(keys, values))\n",
    "\n",
    "print('\\n',best)"
   ]
  },
  {
   "cell_type": "code",
   "execution_count": 144,
   "id": "f4ab155a",
   "metadata": {},
   "outputs": [
    {
     "data": {
      "text/plain": [
       "['Home',\n",
       " 'Home',\n",
       " 'Home',\n",
       " 'Home',\n",
       " 'Home',\n",
       " 'Away',\n",
       " 'Draw',\n",
       " 'Home',\n",
       " 'Draw',\n",
       " 'Home',\n",
       " 'Away',\n",
       " 'Home',\n",
       " 'Home',\n",
       " 'Draw',\n",
       " 'Home',\n",
       " 'Home',\n",
       " 'Home',\n",
       " 'Home',\n",
       " 'Draw',\n",
       " 'Home',\n",
       " 'Away',\n",
       " 'Draw',\n",
       " 'Home',\n",
       " 'Home',\n",
       " 'Draw',\n",
       " 'Home',\n",
       " 'Home',\n",
       " 'Home',\n",
       " 'Home',\n",
       " 'Home',\n",
       " 'Home',\n",
       " 'Away',\n",
       " 'Away',\n",
       " 'Home',\n",
       " 'Draw',\n",
       " 'Home',\n",
       " 'Home',\n",
       " 'Away',\n",
       " 'Home',\n",
       " 'Home',\n",
       " 'Away',\n",
       " 'Home',\n",
       " 'Away',\n",
       " 'Draw',\n",
       " 'Draw',\n",
       " 'Home',\n",
       " 'Draw',\n",
       " 'Home',\n",
       " 'Home',\n",
       " 'Away',\n",
       " 'Draw',\n",
       " 'Home',\n",
       " 'Home',\n",
       " 'Home']"
      ]
     },
     "execution_count": 144,
     "metadata": {},
     "output_type": "execute_result"
    }
   ],
   "source": [
    "est_winner = []\n",
    "\n",
    "for i in range(len(rand_results)):\n",
    "    if rand_results[i][0] > rand_results[i][1]:\n",
    "        est_winner.append('Home')\n",
    "    elif rand_results[i][0] < rand_results[i][1]:\n",
    "        est_winner.append('Away')\n",
    "    else:\n",
    "        est_winner.append('Draw')\n",
    "        \n",
    "est_winner        "
   ]
  },
  {
   "cell_type": "code",
   "execution_count": 154,
   "id": "69d806dc",
   "metadata": {},
   "outputs": [
    {
     "data": {
      "text/plain": [
       "['Home',\n",
       " 'Draw',\n",
       " 'Draw',\n",
       " 'Home',\n",
       " 'Draw',\n",
       " 'Away',\n",
       " 'Away',\n",
       " 'Away',\n",
       " 'Home',\n",
       " 'Away',\n",
       " 'Away',\n",
       " 'Draw',\n",
       " 'Draw',\n",
       " 'Away',\n",
       " 'Home',\n",
       " 'Home',\n",
       " 'Away',\n",
       " 'Away',\n",
       " 'Home',\n",
       " 'Home',\n",
       " 'Away',\n",
       " 'Draw',\n",
       " 'Away',\n",
       " 'Draw',\n",
       " 'Home',\n",
       " 'Away',\n",
       " 'Home',\n",
       " 'Draw',\n",
       " 'Away',\n",
       " 'Draw',\n",
       " 'Home',\n",
       " 'Away',\n",
       " 'Home',\n",
       " 'Home',\n",
       " 'Draw',\n",
       " 'Draw',\n",
       " 'Away',\n",
       " 'Away',\n",
       " 'Home',\n",
       " 'Draw',\n",
       " 'Away',\n",
       " 'Home',\n",
       " 'Home',\n",
       " 'Draw',\n",
       " 'Away',\n",
       " 'Home',\n",
       " 'Draw',\n",
       " 'Home',\n",
       " 'Home',\n",
       " 'Draw',\n",
       " 'Draw',\n",
       " 'Home',\n",
       " 'Home',\n",
       " 'Away']"
      ]
     },
     "execution_count": 154,
     "metadata": {},
     "output_type": "execute_result"
    }
   ],
   "source": [
    "test_winner = []\n",
    "\n",
    "for i in range(len(y_test)):\n",
    "    if y_test['homeResult'][i] > y_test['awayResult'][i]:\n",
    "        test_winner.append('Home')\n",
    "    elif y_test['homeResult'][i] < y_test['awayResult'][i]:\n",
    "        test_winner.append('Away')\n",
    "    else:\n",
    "        test_winner.append('Draw')\n",
    "        \n",
    "test_winner"
   ]
  },
  {
   "cell_type": "code",
   "execution_count": 159,
   "id": "e8f8e39e",
   "metadata": {},
   "outputs": [
    {
     "data": {
      "text/plain": [
       "[True,\n",
       " False,\n",
       " False,\n",
       " True,\n",
       " False,\n",
       " True,\n",
       " False,\n",
       " False,\n",
       " False,\n",
       " False,\n",
       " True,\n",
       " False,\n",
       " False,\n",
       " False,\n",
       " True,\n",
       " True,\n",
       " False,\n",
       " False,\n",
       " False,\n",
       " True,\n",
       " True,\n",
       " True,\n",
       " False,\n",
       " False,\n",
       " False,\n",
       " False,\n",
       " True,\n",
       " False,\n",
       " False,\n",
       " False,\n",
       " True,\n",
       " True,\n",
       " False,\n",
       " True,\n",
       " True,\n",
       " False,\n",
       " False,\n",
       " True,\n",
       " True,\n",
       " False,\n",
       " True,\n",
       " True,\n",
       " False,\n",
       " True,\n",
       " False,\n",
       " True,\n",
       " True,\n",
       " True,\n",
       " True,\n",
       " False,\n",
       " True,\n",
       " True,\n",
       " True,\n",
       " False]"
      ]
     },
     "execution_count": 159,
     "metadata": {},
     "output_type": "execute_result"
    }
   ],
   "source": [
    "diff = []\n",
    "\n",
    "for i in range(len(est_winner)):\n",
    "    diff.append(est_winner[i] == test_winner[i])\n",
    "    \n",
    "diff"
   ]
  },
  {
   "cell_type": "code",
   "execution_count": 162,
   "id": "de35cae5",
   "metadata": {},
   "outputs": [
    {
     "data": {
      "text/plain": [
       "28"
      ]
     },
     "execution_count": 162,
     "metadata": {},
     "output_type": "execute_result"
    }
   ],
   "source": [
    "diff.count(False)"
   ]
  },
  {
   "cell_type": "code",
   "execution_count": null,
   "id": "33abc7a5",
   "metadata": {},
   "outputs": [],
   "source": []
  }
 ],
 "metadata": {
  "kernelspec": {
   "display_name": "Python 3 (ipykernel)",
   "language": "python",
   "name": "python3"
  },
  "language_info": {
   "codemirror_mode": {
    "name": "ipython",
    "version": 3
   },
   "file_extension": ".py",
   "mimetype": "text/x-python",
   "name": "python",
   "nbconvert_exporter": "python",
   "pygments_lexer": "ipython3",
   "version": "3.9.7"
  }
 },
 "nbformat": 4,
 "nbformat_minor": 5
}
